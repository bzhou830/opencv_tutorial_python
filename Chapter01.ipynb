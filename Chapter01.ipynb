{
 "cells": [
  {
   "cell_type": "markdown",
   "metadata": {
    "slideshow": {
     "slide_type": "subslide"
    }
   },
   "source": [
    "# <center> 环境的安装及配置 </center>\n",
    "1. 安装Python3\n",
    "2. 使用pip安装OpenCV Python扩展包\n",
    "3. 测试环境安装是否完成"
   ]
  },
  {
   "cell_type": "markdown",
   "metadata": {
    "slideshow": {
     "slide_type": "subslide"
    }
   },
   "source": [
    "##  <center> 安装Python3 </center>\n",
    "\n",
    "1. 下载Python3安装包，https://www.python.org/, 或者安装Anaconda https://mirrors.tuna.tsinghua.edu.cn/help/anaconda/\n",
    "2. Windows 64bits下选择**Windows x86-64 executable installer**\n",
    "3. Windows 32bits下选择**Windows x86 executable installer**\n",
    "4. Mac OS和Linux内置有Python, 也可以下载响应的安装包进行安装\n",
    "5. Notice:\n",
    "  - **安装后，保证python可执行文件的路径在环境变量中**"
   ]
  },
  {
   "cell_type": "markdown",
   "metadata": {
    "slideshow": {
     "slide_type": "slide"
    }
   },
   "source": [
    "##  <center> 使用pip安装OpenCV Python扩展包 </center>\n",
    "\n",
    "```python\n",
    "# 安装numpy, 方便操作矩阵/向量\n",
    "pip install numpy\n",
    "# 安装matplotlib，用于图表显示\n",
    "pip install matplotlib\n",
    "# 安装OpenCV扩展包\n",
    "pip install Python-OpenCV\n",
    "```\n",
    "notice:\n",
    "  -- 如果pip在下载中下载速度慢，可以选择更换下载源\n",
    "  -- pip install Python-OpenCV -i http://pypi.douban.com/simple\n",
    "  \n",
    "- 阿里云 http://mirrors.aliyun.com/pypi/simple/\n",
    "- 豆瓣(douban) http://pypi.douban.com/simple/ \n",
    "- 清华大学 https://pypi.tuna.tsinghua.edu.cn/simple/\n",
    "- 中科大 http://pypi.mirrors.ustc.edu.cn/simple/\n"
   ]
  },
  {
   "cell_type": "code",
   "execution_count": 1,
   "metadata": {
    "slideshow": {
     "slide_type": "slide"
    }
   },
   "outputs": [
    {
     "data": {
      "text/plain": [
       "<matplotlib.figure.Figure at 0x67663c2b38>"
      ]
     },
     "metadata": {},
     "output_type": "display_data"
    }
   ],
   "source": [
    "##  <center> 测试环境安装是否完成 </center>\n",
    "import cv2\n",
    "import numpy as np\n",
    "from matplotlib import pyplot as plt\n",
    "\n",
    "img = np.zeros((512,512,3), np.uint8)\n",
    "font = cv2.FONT_HERSHEY_SIMPLEX\n",
    "cv2.putText(img,'OpenCV', (10, 250), font, 4, (255, 255, 255), 2)\n",
    "\n",
    "plt.imshow(img)\n",
    "plt.axis('off')\n",
    "plt.show()"
   ]
  }
 ],
 "metadata": {
  "celltoolbar": "幻灯片",
  "kernelspec": {
   "display_name": "Python 3",
   "language": "python",
   "name": "python3"
  },
  "language_info": {
   "codemirror_mode": {
    "name": "ipython",
    "version": 3
   },
   "file_extension": ".py",
   "mimetype": "text/x-python",
   "name": "python",
   "nbconvert_exporter": "python",
   "pygments_lexer": "ipython3",
   "version": "3.6.3"
  }
 },
 "nbformat": 4,
 "nbformat_minor": 2
}

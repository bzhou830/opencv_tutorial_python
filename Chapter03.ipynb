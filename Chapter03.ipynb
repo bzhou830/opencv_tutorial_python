{
 "cells": [
  {
   "cell_type": "markdown",
   "metadata": {},
   "source": [
    "## OpenCV中的图像的基本操作\n",
    "\n",
    "- 读取图像中的像素，对指定的像素进行修改\n",
    "- 获取图像的属性（宽高，通道数，像素类型）\n",
    "- 设置感兴趣区域（ROI）\n",
    "- 图像的分离和合并\n",
    "\n",
    "img.shape  img.size, img.dtype\n",
    "img.item(10,10,2)"
   ]
  },
  {
   "cell_type": "markdown",
   "metadata": {},
   "source": [
    "### 读取图像中的像素，对指定的像素进行修改"
   ]
  },
  {
   "cell_type": "code",
   "execution_count": null,
   "metadata": {},
   "outputs": [],
   "source": [
    "# 读入一张图像\n",
    "import numpy as np\n",
    "import cv2 as cv\n",
    "\n",
    "img = cv.imread('messi.jpg')"
   ]
  },
  {
   "cell_type": "code",
   "execution_count": null,
   "metadata": {},
   "outputs": [],
   "source": [
    "# 获取像素\n",
    "px = img[100,100]\n",
    "print( px )\n",
    "\n",
    "# 访问单个通道的像素\n",
    "blue = img[100,100,0]\n",
    "print( blue )\n",
    "\n",
    "# 修改像素\n",
    "img[100,100] = [255,255,255]\n",
    "print( img[100,100] )\n",
    "[255 255 255]\n",
    "\n",
    "# 下面的是官方推荐的方式\n",
    "# 访问像素\n",
    "img.item(10,10,2)\n",
    "\n",
    "# 修改像素\n",
    "img.itemset((10,10,2),100)\n",
    "img.item(10,10,2)\n"
   ]
  },
  {
   "cell_type": "markdown",
   "metadata": {},
   "source": [
    "### 获取图像的属性（宽高，通道数，像素类型）\n",
    "\n",
    "图像的属性指的是图像的宽高，像素的数据类型，像素的个数等等。\n",
    "图像的形状可以通过img.shape来获取， img.shape返回的是一个tuple，格式是（图像的行数（高）, 图像的列数（宽）, 通道数）"
   ]
  },
  {
   "cell_type": "code",
   "execution_count": null,
   "metadata": {},
   "outputs": [],
   "source": [
    "# 图像的形状\n",
    "print( img.shape )\n",
    "# 图像中像素的个数\n",
    "print( img.size )\n",
    "# 橡树的格式\n",
    "print( img.dtype )"
   ]
  },
  {
   "cell_type": "markdown",
   "metadata": {},
   "source": [
    "### 设置感兴趣区域（ROI）"
   ]
  },
  {
   "cell_type": "code",
   "execution_count": null,
   "metadata": {},
   "outputs": [],
   "source": [
    "ball = img[280:340, 330:390]\n",
    "img[273:333, 100:160] = ball"
   ]
  },
  {
   "cell_type": "code",
   "execution_count": null,
   "metadata": {},
   "outputs": [],
   "source": [
    "### 图像的分离和合并"
   ]
  },
  {
   "cell_type": "code",
   "execution_count": null,
   "metadata": {},
   "outputs": [],
   "source": [
    "# 图像通道的分离\n",
    "b,g,r = cv.split(img)\n",
    "img = cv.merge((b,g,r))\n",
    "\n",
    "# 使用numpy的这种方式也是可以的\n",
    "b = img[:,:,0]\n",
    "img[:,:,2] = 0"
   ]
  },
  {
   "cell_type": "markdown",
   "metadata": {},
   "source": [
    "### 为图像添加外边框\n",
    "\n",
    "如果你想在图像周围创建一个边，就像相框一样，你可以使用 cv2.copyMakeBorder()\n",
    "函数。这经常在卷积运算或 0 填充时被用到。这个函数包括如下参数：\n",
    "• src 输入图像\n",
    "\n",
    "• top, bottom, left, right 对应边界的像素数目。\n",
    "\n",
    "• borderType 要添加那种类型的边界，类型如下\n",
    "\n",
    "- cv2.BORDER_CONSTANT 添加有颜色的常数值边界，还需要下一个参数（value）。\n",
    "- cv2.BORDER_REFLECT 边界元素的镜像。比如: fedcba|abcde-fgh|hgfedcb\n",
    "- cv2.BORDER_REFLECT_101 or cv2.BORDER_DEFAULT跟上面一样，但稍作改动。例如: gfedcb|abcdefgh|gfedcba\n",
    "- cv2.BORDER_REPLICATE 重复最后一个元素。例如: aaaaaa|abcdefgh|hhhhhhh"
   ]
  },
  {
   "cell_type": "code",
   "execution_count": null,
   "metadata": {},
   "outputs": [],
   "source": [
    "import cv2 as cv\n",
    "import numpy as np\n",
    "from matplotlib import pyplot as plt\n",
    "\n",
    "BLUE = [255,0,0]\n",
    "\n",
    "img1 = cv.imread('opencv-logo.png')\n",
    "\n",
    "replicate = cv.copyMakeBorder(img1,10,10,10,10,cv.BORDER_REPLICATE)\n",
    "reflect = cv.copyMakeBorder(img1,10,10,10,10,cv.BORDER_REFLECT)\n",
    "reflect101 = cv.copyMakeBorder(img1,10,10,10,10,cv.BORDER_REFLECT_101)\n",
    "wrap = cv.copyMakeBorder(img1,10,10,10,10,cv.BORDER_WRAP)\n",
    "constant= cv.copyMakeBorder(img1,10,10,10,10,cv.BORDER_CONSTANT,value=BLUE)\n",
    "\n",
    "plt.subplot(231),plt.imshow(img1,'gray'),plt.title('ORIGINAL')\n",
    "plt.subplot(232),plt.imshow(replicate,'gray'),plt.title('REPLICATE')\n",
    "plt.subplot(233),plt.imshow(reflect,'gray'),plt.title('REFLECT')\n",
    "plt.subplot(234),plt.imshow(reflect101,'gray'),plt.title('REFLECT_101')\n",
    "plt.subplot(235),plt.imshow(wrap,'gray'),plt.title('WRAP')\n",
    "plt.subplot(236),plt.imshow(constant,'gray'),plt.title('CONSTANT')\n",
    "\n",
    "plt.show()"
   ]
  }
 ],
 "metadata": {
  "kernelspec": {
   "display_name": "Python 3",
   "language": "python",
   "name": "python3"
  },
  "language_info": {
   "codemirror_mode": {
    "name": "ipython",
    "version": 3
   },
   "file_extension": ".py",
   "mimetype": "text/x-python",
   "name": "python",
   "nbconvert_exporter": "python",
   "pygments_lexer": "ipython3",
   "version": "3.6.3"
  }
 },
 "nbformat": 4,
 "nbformat_minor": 2
}
